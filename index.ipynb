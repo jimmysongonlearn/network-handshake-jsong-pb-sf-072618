{
 "cells": [
  {
   "cell_type": "markdown",
   "metadata": {},
   "source": [
    "# Network Handshake\n",
    "\n",
    "## Try it"
   ]
  },
  {
   "cell_type": "code",
   "execution_count": null,
   "metadata": {},
   "outputs": [],
   "source": [
    "# Handshake Example\n",
    "\n",
    "from network import SimpleNode, VersionMessage\n",
    "\n",
    "node = SimpleNode('tbtc.programmingblockchain.com', testnet=True, logging=True)\n",
    "\n",
    "version = VersionMessage()\n",
    "node.send(version.command, version.serialize())\n",
    "print(node.wait_for_commands([b'verack']))"
   ]
  },
  {
   "cell_type": "markdown",
   "metadata": {},
   "source": [
    "## Test Driven Exercise"
   ]
  },
  {
   "cell_type": "code",
   "execution_count": null,
   "metadata": {},
   "outputs": [],
   "source": [
    "# Exercise 4.1\n",
    "\n",
    "from network import SimpleNode, VersionMessage\n",
    "\n",
    "class SimpleNode(SimpleNode):\n",
    "\n",
    "    def handshake(self):\n",
    "        '''Do a handshake with the other node. Handshake is sending a version message and getting a verack back.'''\n",
    "        # create a version message\n",
    "        # send the command\n",
    "        # wait for a verack message\n",
    "        raise NotImplementedError"
   ]
  }
 ],
 "metadata": {
  "kernelspec": {
   "display_name": "Python 3",
   "language": "python",
   "name": "python3"
  },
  "language_info": {
   "codemirror_mode": {
    "name": "ipython",
    "version": 3
   },
   "file_extension": ".py",
   "mimetype": "text/x-python",
   "name": "python",
   "nbconvert_exporter": "python",
   "pygments_lexer": "ipython3",
   "version": "3.6.6"
  }
 },
 "nbformat": 4,
 "nbformat_minor": 2
}
